{
 "cells": [
  {
   "cell_type": "markdown",
   "metadata": {},
   "source": [
    "Crawling\n",
    "- 사회과학\n",
    "    - 경제/경영\n",
    "        - https://terms.naver.com/list.nhn?cid=51737&categoryId=51737 [네이버 회계,세무사전]\n",
    "        - https://terms.naver.com/list.nhn?cid=42094&categoryId=42094 [부동산 용어 사전]\n",
    "        - https://terms.naver.com/list.nhn?cid=51072&categoryId=51072 [HRD 용어사전]\n",
    "        - https://terms.naver.com/list.nhn?cid=42093&categoryId=42093 [무역용어사전]\n",
    "        - https://terms.naver.com/list.nhn?cid=58452&categoryId=58452 [통계]\n",
    "        - https://terms.naver.com/list.nhn?cid=48156&categoryId=48156 [음식 레시피]\n",
    "        - https://terms.naver.com/list.nhn?cid=42826&categoryId=41702 [생활/취미/스포츠]"
   ]
  },
  {
   "cell_type": "markdown",
   "metadata": {},
   "source": [
    "##### 1. https://terms.naver.com/list.nhn?cid=51737&categoryId=51737 "
   ]
  },
  {
   "cell_type": "code",
   "execution_count": 1,
   "metadata": {},
   "outputs": [],
   "source": [
    "import pandas as pd\n",
    "import requests\n",
    "from bs4 import BeautifulSoup\n",
    "from tqdm.notebook import tqdm"
   ]
  },
  {
   "cell_type": "markdown",
   "metadata": {},
   "source": [
    "##### url Load"
   ]
  },
  {
   "cell_type": "code",
   "execution_count": null,
   "metadata": {},
   "outputs": [],
   "source": []
  },
  {
   "cell_type": "code",
   "execution_count": 2,
   "metadata": {},
   "outputs": [],
   "source": [
    "def reqSoup(url):\n",
    "    req = requests.get(url)\n",
    "    html = req.text\n",
    "    soup = BeautifulSoup(html , 'html.parser')\n",
    "    return soup"
   ]
  },
  {
   "cell_type": "code",
   "execution_count": null,
   "metadata": {},
   "outputs": [],
   "source": []
  },
  {
   "cell_type": "code",
   "execution_count": null,
   "metadata": {},
   "outputs": [],
   "source": []
  },
  {
   "cell_type": "code",
   "execution_count": 6,
   "metadata": {
    "scrolled": true
   },
   "outputs": [],
   "source": [
    "def urlCrawling(categoryID):\n",
    "\n",
    "    urlList = []\n",
    "    \n",
    "    Flag = True    \n",
    "    pageNo = 0\n",
    "    \n",
    "    # url Load\n",
    "    while(Flag == True):\n",
    "        \n",
    "        if pageNo ==100:\n",
    "            break\n",
    "        \n",
    "        pageNo +=1\n",
    "        url = 'https://terms.naver.com/list.nhn?cid={}&categoryId={}&page={}'.format(categoryID,categoryID,pageNo)\n",
    "        \n",
    "        try:\n",
    "            soup = reqSoup(url)\n",
    "        except:\n",
    "            break\n",
    "\n",
    "        for row in range(15):\n",
    "            try:\n",
    "                urlList.append('https://terms.naver.com' + soup.select('#content > div.list_wrap > ul > li')[row].select('a')[0]['href'])\n",
    "            except:\n",
    "                Flag = False\n",
    "            \n",
    "        if pageNo % 20 == 0:\n",
    "            print(url)\n",
    "       \n",
    "    \n",
    "    print(categoryID , pageNo ,' url Crawling Success . . .')   \n",
    "    contentList = []\n",
    "    err_count = 30\n",
    "    \n",
    "    \n",
    "    \n",
    "    #Crawling Content in URL\n",
    "    for i in range(len(urlList)):\n",
    "        \n",
    "        if i %100 ==0:\n",
    "            print(i / len(urlList) * 100 , ' %')\n",
    "        \n",
    "        if err_count ==0:break\n",
    "        \n",
    "        url = urlList[i]\n",
    "        soup = reqSoup(url)\n",
    "\n",
    "        \n",
    "        try:\n",
    "            contentList.append(soup.select('#size_ct > p')[0].text)\n",
    "        except:\n",
    "            try:\n",
    "                contentList.append(soup.select('#size_ct > div')[0].text)\n",
    "            except:\n",
    "                err_count -=1 \n",
    "                print(url , ' : x')\n",
    "                pass\n",
    "            \n",
    "    print(categoryID , 'contents Crawling Success . . .')\n",
    "    \n",
    "    \n",
    "    return pd.DataFrame(contentList)"
   ]
  },
  {
   "cell_type": "code",
   "execution_count": 7,
   "metadata": {},
   "outputs": [
    {
     "name": "stdout",
     "output_type": "stream",
     "text": [
      "https://terms.naver.com/list.nhn?cid=41702&categoryId=41702&page=20\n",
      "https://terms.naver.com/list.nhn?cid=41702&categoryId=41702&page=40\n",
      "https://terms.naver.com/list.nhn?cid=41702&categoryId=41702&page=60\n",
      "https://terms.naver.com/list.nhn?cid=41702&categoryId=41702&page=80\n",
      "https://terms.naver.com/list.nhn?cid=41702&categoryId=41702&page=100\n",
      "41702 100  url Crawling Success . . .\n",
      "0.0  %\n",
      "6.666666666666667  %\n",
      "13.333333333333334  %\n",
      "20.0  %\n",
      "26.666666666666668  %\n",
      "33.33333333333333  %\n",
      "40.0  %\n",
      "46.666666666666664  %\n",
      "53.333333333333336  %\n",
      "60.0  %\n",
      "66.66666666666666  %\n",
      "73.33333333333333  %\n",
      "80.0  %\n",
      "86.66666666666667  %\n",
      "93.33333333333333  %\n",
      "41702 contents Crawling Success . . .\n"
     ]
    }
   ],
   "source": [
    "생활취미 = urlCrawling('41702')\n",
    "생활취미.to_csv('생활취미.csv')"
   ]
  },
  {
   "cell_type": "code",
   "execution_count": null,
   "metadata": {},
   "outputs": [],
   "source": []
  },
  {
   "cell_type": "code",
   "execution_count": null,
   "metadata": {},
   "outputs": [],
   "source": []
  },
  {
   "cell_type": "code",
   "execution_count": null,
   "metadata": {},
   "outputs": [],
   "source": []
  },
  {
   "cell_type": "code",
   "execution_count": null,
   "metadata": {},
   "outputs": [],
   "source": []
  },
  {
   "cell_type": "code",
   "execution_count": 63,
   "metadata": {},
   "outputs": [
    {
     "ename": "NameError",
     "evalue": "name 'df' is not defined",
     "output_type": "error",
     "traceback": [
      "\u001b[1;31m---------------------------------------------------------------------------\u001b[0m",
      "\u001b[1;31mNameError\u001b[0m                                 Traceback (most recent call last)",
      "\u001b[1;32m<ipython-input-63-7ea3fc7746bd>\u001b[0m in \u001b[0;36m<module>\u001b[1;34m\u001b[0m\n\u001b[1;32m----> 1\u001b[1;33m \u001b[0mdf\u001b[0m\u001b[1;33m.\u001b[0m\u001b[0mino\u001b[0m\u001b[1;33m(\u001b[0m\u001b[1;33m)\u001b[0m\u001b[1;33m\u001b[0m\u001b[1;33m\u001b[0m\u001b[0m\n\u001b[0m",
      "\u001b[1;31mNameError\u001b[0m: name 'df' is not defined"
     ]
    }
   ],
   "source": []
  },
  {
   "cell_type": "code",
   "execution_count": null,
   "metadata": {},
   "outputs": [],
   "source": []
  },
  {
   "cell_type": "code",
   "execution_count": null,
   "metadata": {},
   "outputs": [],
   "source": [
    "soup.select('#content > div.list_wrap > ul > li)[11].selector(div > div.subject > strong >a)"
   ]
  },
  {
   "cell_type": "code",
   "execution_count": null,
   "metadata": {},
   "outputs": [],
   "source": []
  },
  {
   "cell_type": "code",
   "execution_count": null,
   "metadata": {},
   "outputs": [],
   "source": [
    "a = soup.selecotr()'#content > div.list_wrap > ul > li' )\n",
    "a.selector(div > div.subject > strong > a) :nth-child(1)\n",
    "    \n",
    "    \n",
    "#content > div.list_wrap > ul > li:nth-child(15) > div > div.subject > strong > a:nth-child(1)"
   ]
  },
  {
   "cell_type": "code",
   "execution_count": null,
   "metadata": {},
   "outputs": [],
   "source": []
  },
  {
   "cell_type": "code",
   "execution_count": null,
   "metadata": {},
   "outputs": [],
   "source": []
  },
  {
   "cell_type": "code",
   "execution_count": null,
   "metadata": {},
   "outputs": [],
   "source": []
  },
  {
   "cell_type": "code",
   "execution_count": 3,
   "metadata": {},
   "outputs": [
    {
     "ename": "NameError",
     "evalue": "name '회계' is not defined",
     "output_type": "error",
     "traceback": [
      "\u001b[1;31m---------------------------------------------------------------------------\u001b[0m",
      "\u001b[1;31mNameError\u001b[0m                                 Traceback (most recent call last)",
      "\u001b[1;32m<ipython-input-3-15c4972c1135>\u001b[0m in \u001b[0;36m<module>\u001b[1;34m\u001b[0m\n\u001b[1;32m----> 1\u001b[1;33m \u001b[0mdictDF\u001b[0m \u001b[1;33m=\u001b[0m \u001b[0mpd\u001b[0m\u001b[1;33m.\u001b[0m\u001b[0mconcat\u001b[0m\u001b[1;33m(\u001b[0m\u001b[1;33m[\u001b[0m\u001b[0m회계\u001b[0m\u001b[1;33m,\u001b[0m \u001b[0m부동산\u001b[0m\u001b[1;33m,\u001b[0m \u001b[0m무역\u001b[0m\u001b[1;33m,\u001b[0m \u001b[0m통계\u001b[0m\u001b[1;33m]\u001b[0m\u001b[1;33m,\u001b[0m \u001b[0mignore_index\u001b[0m \u001b[1;33m=\u001b[0m \u001b[1;32mTrue\u001b[0m\u001b[1;33m)\u001b[0m\u001b[1;33m\u001b[0m\u001b[1;33m\u001b[0m\u001b[0m\n\u001b[0m\u001b[0;32m      2\u001b[0m \u001b[0mdictDF\u001b[0m\u001b[1;33m\u001b[0m\u001b[1;33m\u001b[0m\u001b[0m\n",
      "\u001b[1;31mNameError\u001b[0m: name '회계' is not defined"
     ]
    }
   ],
   "source": [
    "dictDF = pd.concat([회계, 부동산, HRD,무역, 통계], ignore_index = True)\n",
    "dictDF"
   ]
  },
  {
   "cell_type": "code",
   "execution_count": 10,
   "metadata": {},
   "outputs": [
    {
     "data": {
      "text/html": [
       "<div>\n",
       "<style scoped>\n",
       "    .dataframe tbody tr th:only-of-type {\n",
       "        vertical-align: middle;\n",
       "    }\n",
       "\n",
       "    .dataframe tbody tr th {\n",
       "        vertical-align: top;\n",
       "    }\n",
       "\n",
       "    .dataframe thead th {\n",
       "        text-align: right;\n",
       "    }\n",
       "</style>\n",
       "<table border=\"1\" class=\"dataframe\">\n",
       "  <thead>\n",
       "    <tr style=\"text-align: right;\">\n",
       "      <th></th>\n",
       "      <th>0</th>\n",
       "    </tr>\n",
       "  </thead>\n",
       "  <tbody>\n",
       "    <tr>\n",
       "      <th>1870</th>\n",
       "      <td>조합매매상 매매를 담당하는 자를 조합주임이라고 하고, 조합에 관한 사항을 모아서 조...</td>\n",
       "    </tr>\n",
       "    <tr>\n",
       "      <th>1871</th>\n",
       "      <td>애덤 스미스를 비롯한 정통학파에 속하는 학자들의 이론으로서 조세란 생산에 유해할 뿐...</td>\n",
       "    </tr>\n",
       "    <tr>\n",
       "      <th>1872</th>\n",
       "      <td>국내산업을 보호하고 국제수지를 개선하기 위해 수입물품에 대해 관세에 부가하여 부과하...</td>\n",
       "    </tr>\n",
       "    <tr>\n",
       "      <th>1873</th>\n",
       "      <td>세금계산서·수입계산서 등 기타 과세자료를 세무서에 제출할 의무가 있는 사람들에게 업...</td>\n",
       "    </tr>\n",
       "    <tr>\n",
       "      <th>1874</th>\n",
       "      <td>납액통지란 국세징수법 제8조의 규정에 의해 위탁징수(委託徵收)를 할 때 세무서장이 ...</td>\n",
       "    </tr>\n",
       "  </tbody>\n",
       "</table>\n",
       "</div>"
      ],
      "text/plain": [
       "                                                      0\n",
       "1870  조합매매상 매매를 담당하는 자를 조합주임이라고 하고, 조합에 관한 사항을 모아서 조...\n",
       "1871  애덤 스미스를 비롯한 정통학파에 속하는 학자들의 이론으로서 조세란 생산에 유해할 뿐...\n",
       "1872  국내산업을 보호하고 국제수지를 개선하기 위해 수입물품에 대해 관세에 부가하여 부과하...\n",
       "1873  세금계산서·수입계산서 등 기타 과세자료를 세무서에 제출할 의무가 있는 사람들에게 업...\n",
       "1874  납액통지란 국세징수법 제8조의 규정에 의해 위탁징수(委託徵收)를 할 때 세무서장이 ..."
      ]
     },
     "execution_count": 10,
     "metadata": {},
     "output_type": "execute_result"
    }
   ],
   "source": [
    "회계 = pd.read_csv('회계세무.csv', index_col = 0)\n",
    "회계.tail()"
   ]
  },
  {
   "cell_type": "code",
   "execution_count": 57,
   "metadata": {},
   "outputs": [
    {
     "data": {
      "text/html": [
       "<div>\n",
       "<style scoped>\n",
       "    .dataframe tbody tr th:only-of-type {\n",
       "        vertical-align: middle;\n",
       "    }\n",
       "\n",
       "    .dataframe tbody tr th {\n",
       "        vertical-align: top;\n",
       "    }\n",
       "\n",
       "    .dataframe thead th {\n",
       "        text-align: right;\n",
       "    }\n",
       "</style>\n",
       "<table border=\"1\" class=\"dataframe\">\n",
       "  <thead>\n",
       "    <tr style=\"text-align: right;\">\n",
       "      <th></th>\n",
       "      <th>0</th>\n",
       "    </tr>\n",
       "  </thead>\n",
       "  <tbody>\n",
       "    <tr>\n",
       "      <th>1870</th>\n",
       "      <td>저당채권을 유동화하면 관련자에게 생기는 효과를 말한다. 우선 소비자에게 다음과 같은...</td>\n",
       "    </tr>\n",
       "    <tr>\n",
       "      <th>1871</th>\n",
       "      <td>주식회사 형태의 관민자본공동기업으로 부동산감정평가업무와 공동주택가격조사업무를 주 업...</td>\n",
       "    </tr>\n",
       "    <tr>\n",
       "      <th>1872</th>\n",
       "      <td>기업이 내적으로 단기적 지급능력을 갖추고 있음은 물론 장기적으로 경기 변동이나 시장...</td>\n",
       "    </tr>\n",
       "    <tr>\n",
       "      <th>1873</th>\n",
       "      <td>모기지 은행이 대출한 주택 론(loan) 중에서 일정한 조건을 만족한 것을 일괄(p...</td>\n",
       "    </tr>\n",
       "    <tr>\n",
       "      <th>1874</th>\n",
       "      <td>원본의 필요한 부분만을 뽑아서 베끼거나 발췌하여 등사한 서면으로 원본 중의 필요한 ...</td>\n",
       "    </tr>\n",
       "  </tbody>\n",
       "</table>\n",
       "</div>"
      ],
      "text/plain": [
       "                                                      0\n",
       "1870  저당채권을 유동화하면 관련자에게 생기는 효과를 말한다. 우선 소비자에게 다음과 같은...\n",
       "1871  주식회사 형태의 관민자본공동기업으로 부동산감정평가업무와 공동주택가격조사업무를 주 업...\n",
       "1872  기업이 내적으로 단기적 지급능력을 갖추고 있음은 물론 장기적으로 경기 변동이나 시장...\n",
       "1873  모기지 은행이 대출한 주택 론(loan) 중에서 일정한 조건을 만족한 것을 일괄(p...\n",
       "1874  원본의 필요한 부분만을 뽑아서 베끼거나 발췌하여 등사한 서면으로 원본 중의 필요한 ..."
      ]
     },
     "execution_count": 57,
     "metadata": {},
     "output_type": "execute_result"
    }
   ],
   "source": [
    "부동산 = pd.read_csv('부동산.csv', index_col = 0)\n",
    "부동산.tail()"
   ]
  },
  {
   "cell_type": "markdown",
   "metadata": {},
   "source": [
    "##### konlpy활용한 정제 // Mecab 라이브러리 쓰면 더 정제가 효율적"
   ]
  },
  {
   "cell_type": "code",
   "execution_count": 55,
   "metadata": {},
   "outputs": [],
   "source": [
    "from eunjeon import Mecab\n",
    "import re\n",
    "m = Mecab()"
   ]
  },
  {
   "cell_type": "markdown",
   "metadata": {},
   "source": [
    "##### 한자나 특수문자 등 제거"
   ]
  },
  {
   "cell_type": "code",
   "execution_count": 56,
   "metadata": {
    "scrolled": true
   },
   "outputs": [
    {
     "ename": "KeyError",
     "evalue": "'0'",
     "output_type": "error",
     "traceback": [
      "\u001b[1;31m---------------------------------------------------------------------------\u001b[0m",
      "\u001b[1;31mKeyError\u001b[0m                                  Traceback (most recent call last)",
      "\u001b[1;32mC:\\Anaconda3_19_1222\\lib\\site-packages\\pandas\\core\\indexes\\base.py\u001b[0m in \u001b[0;36mget_loc\u001b[1;34m(self, key, method, tolerance)\u001b[0m\n\u001b[0;32m   2645\u001b[0m             \u001b[1;32mtry\u001b[0m\u001b[1;33m:\u001b[0m\u001b[1;33m\u001b[0m\u001b[1;33m\u001b[0m\u001b[0m\n\u001b[1;32m-> 2646\u001b[1;33m                 \u001b[1;32mreturn\u001b[0m \u001b[0mself\u001b[0m\u001b[1;33m.\u001b[0m\u001b[0m_engine\u001b[0m\u001b[1;33m.\u001b[0m\u001b[0mget_loc\u001b[0m\u001b[1;33m(\u001b[0m\u001b[0mkey\u001b[0m\u001b[1;33m)\u001b[0m\u001b[1;33m\u001b[0m\u001b[1;33m\u001b[0m\u001b[0m\n\u001b[0m\u001b[0;32m   2647\u001b[0m             \u001b[1;32mexcept\u001b[0m \u001b[0mKeyError\u001b[0m\u001b[1;33m:\u001b[0m\u001b[1;33m\u001b[0m\u001b[1;33m\u001b[0m\u001b[0m\n",
      "\u001b[1;32mpandas\\_libs\\index.pyx\u001b[0m in \u001b[0;36mpandas._libs.index.IndexEngine.get_loc\u001b[1;34m()\u001b[0m\n",
      "\u001b[1;32mpandas\\_libs\\index.pyx\u001b[0m in \u001b[0;36mpandas._libs.index.IndexEngine.get_loc\u001b[1;34m()\u001b[0m\n",
      "\u001b[1;32mpandas\\_libs\\hashtable_class_helper.pxi\u001b[0m in \u001b[0;36mpandas._libs.hashtable.PyObjectHashTable.get_item\u001b[1;34m()\u001b[0m\n",
      "\u001b[1;32mpandas\\_libs\\hashtable_class_helper.pxi\u001b[0m in \u001b[0;36mpandas._libs.hashtable.PyObjectHashTable.get_item\u001b[1;34m()\u001b[0m\n",
      "\u001b[1;31mKeyError\u001b[0m: '0'",
      "\nDuring handling of the above exception, another exception occurred:\n",
      "\u001b[1;31mKeyError\u001b[0m                                  Traceback (most recent call last)",
      "\u001b[1;32m<ipython-input-56-8f114c12a11e>\u001b[0m in \u001b[0;36m<module>\u001b[1;34m\u001b[0m\n\u001b[0;32m      2\u001b[0m \u001b[0mre_txt\u001b[0m \u001b[1;33m=\u001b[0m \u001b[0mre\u001b[0m\u001b[1;33m.\u001b[0m\u001b[0msub\u001b[0m\u001b[1;33m(\u001b[0m\u001b[0mpattern\u001b[0m \u001b[1;33m=\u001b[0m \u001b[0mre_pattern\u001b[0m \u001b[1;33m,\u001b[0m \u001b[0mrepl\u001b[0m \u001b[1;33m=\u001b[0m \u001b[1;34m''\u001b[0m \u001b[1;33m,\u001b[0m \u001b[0mstring\u001b[0m \u001b[1;33m=\u001b[0m \u001b[1;34m'동해!물과a 백두1 산이'\u001b[0m\u001b[1;33m)\u001b[0m\u001b[1;33m\u001b[0m\u001b[1;33m\u001b[0m\u001b[0m\n\u001b[0;32m      3\u001b[0m \u001b[1;33m\u001b[0m\u001b[0m\n\u001b[1;32m----> 4\u001b[1;33m \u001b[0m회계\u001b[0m\u001b[1;33m[\u001b[0m\u001b[1;34m'words'\u001b[0m\u001b[1;33m]\u001b[0m \u001b[1;33m=\u001b[0m \u001b[0m회계\u001b[0m\u001b[1;33m[\u001b[0m\u001b[1;34m'0'\u001b[0m\u001b[1;33m]\u001b[0m\u001b[1;33m.\u001b[0m\u001b[0mapply\u001b[0m\u001b[1;33m(\u001b[0m\u001b[1;32mlambda\u001b[0m \u001b[0mx\u001b[0m \u001b[1;33m:\u001b[0m \u001b[0mre\u001b[0m\u001b[1;33m.\u001b[0m\u001b[0msub\u001b[0m\u001b[1;33m(\u001b[0m\u001b[0mpattern\u001b[0m \u001b[1;33m=\u001b[0m \u001b[0mre_pattern\u001b[0m \u001b[1;33m,\u001b[0m \u001b[0mrepl\u001b[0m \u001b[1;33m=\u001b[0m \u001b[1;34m''\u001b[0m\u001b[1;33m,\u001b[0m \u001b[0mstring\u001b[0m \u001b[1;33m=\u001b[0m \u001b[0mx\u001b[0m\u001b[1;33m)\u001b[0m\u001b[1;33m)\u001b[0m\u001b[1;33m\u001b[0m\u001b[1;33m\u001b[0m\u001b[0m\n\u001b[0m\u001b[0;32m      5\u001b[0m \u001b[0m회계\u001b[0m\u001b[1;33m[\u001b[0m\u001b[1;34m'words'\u001b[0m\u001b[1;33m]\u001b[0m \u001b[1;33m=\u001b[0m \u001b[0m회계\u001b[0m\u001b[1;33m[\u001b[0m\u001b[1;34m'words'\u001b[0m\u001b[1;33m]\u001b[0m\u001b[1;33m.\u001b[0m\u001b[0mapply\u001b[0m\u001b[1;33m(\u001b[0m\u001b[1;32mlambda\u001b[0m \u001b[0mx\u001b[0m \u001b[1;33m:\u001b[0m \u001b[0mm\u001b[0m\u001b[1;33m.\u001b[0m\u001b[0mnouns\u001b[0m\u001b[1;33m(\u001b[0m\u001b[0mx\u001b[0m\u001b[1;33m)\u001b[0m\u001b[1;33m)\u001b[0m\u001b[1;33m\u001b[0m\u001b[1;33m\u001b[0m\u001b[0m\n\u001b[0;32m      6\u001b[0m \u001b[0m회계\u001b[0m\u001b[1;33m.\u001b[0m\u001b[0mdrop\u001b[0m\u001b[1;33m(\u001b[0m\u001b[1;34m'0'\u001b[0m\u001b[1;33m,\u001b[0m \u001b[0maxis\u001b[0m \u001b[1;33m=\u001b[0m \u001b[1;36m1\u001b[0m \u001b[1;33m,\u001b[0m \u001b[0minplace\u001b[0m \u001b[1;33m=\u001b[0m \u001b[1;32mTrue\u001b[0m\u001b[1;33m)\u001b[0m\u001b[1;33m\u001b[0m\u001b[1;33m\u001b[0m\u001b[0m\n",
      "\u001b[1;32mC:\\Anaconda3_19_1222\\lib\\site-packages\\pandas\\core\\frame.py\u001b[0m in \u001b[0;36m__getitem__\u001b[1;34m(self, key)\u001b[0m\n\u001b[0;32m   2798\u001b[0m             \u001b[1;32mif\u001b[0m \u001b[0mself\u001b[0m\u001b[1;33m.\u001b[0m\u001b[0mcolumns\u001b[0m\u001b[1;33m.\u001b[0m\u001b[0mnlevels\u001b[0m \u001b[1;33m>\u001b[0m \u001b[1;36m1\u001b[0m\u001b[1;33m:\u001b[0m\u001b[1;33m\u001b[0m\u001b[1;33m\u001b[0m\u001b[0m\n\u001b[0;32m   2799\u001b[0m                 \u001b[1;32mreturn\u001b[0m \u001b[0mself\u001b[0m\u001b[1;33m.\u001b[0m\u001b[0m_getitem_multilevel\u001b[0m\u001b[1;33m(\u001b[0m\u001b[0mkey\u001b[0m\u001b[1;33m)\u001b[0m\u001b[1;33m\u001b[0m\u001b[1;33m\u001b[0m\u001b[0m\n\u001b[1;32m-> 2800\u001b[1;33m             \u001b[0mindexer\u001b[0m \u001b[1;33m=\u001b[0m \u001b[0mself\u001b[0m\u001b[1;33m.\u001b[0m\u001b[0mcolumns\u001b[0m\u001b[1;33m.\u001b[0m\u001b[0mget_loc\u001b[0m\u001b[1;33m(\u001b[0m\u001b[0mkey\u001b[0m\u001b[1;33m)\u001b[0m\u001b[1;33m\u001b[0m\u001b[1;33m\u001b[0m\u001b[0m\n\u001b[0m\u001b[0;32m   2801\u001b[0m             \u001b[1;32mif\u001b[0m \u001b[0mis_integer\u001b[0m\u001b[1;33m(\u001b[0m\u001b[0mindexer\u001b[0m\u001b[1;33m)\u001b[0m\u001b[1;33m:\u001b[0m\u001b[1;33m\u001b[0m\u001b[1;33m\u001b[0m\u001b[0m\n\u001b[0;32m   2802\u001b[0m                 \u001b[0mindexer\u001b[0m \u001b[1;33m=\u001b[0m \u001b[1;33m[\u001b[0m\u001b[0mindexer\u001b[0m\u001b[1;33m]\u001b[0m\u001b[1;33m\u001b[0m\u001b[1;33m\u001b[0m\u001b[0m\n",
      "\u001b[1;32mC:\\Anaconda3_19_1222\\lib\\site-packages\\pandas\\core\\indexes\\base.py\u001b[0m in \u001b[0;36mget_loc\u001b[1;34m(self, key, method, tolerance)\u001b[0m\n\u001b[0;32m   2646\u001b[0m                 \u001b[1;32mreturn\u001b[0m \u001b[0mself\u001b[0m\u001b[1;33m.\u001b[0m\u001b[0m_engine\u001b[0m\u001b[1;33m.\u001b[0m\u001b[0mget_loc\u001b[0m\u001b[1;33m(\u001b[0m\u001b[0mkey\u001b[0m\u001b[1;33m)\u001b[0m\u001b[1;33m\u001b[0m\u001b[1;33m\u001b[0m\u001b[0m\n\u001b[0;32m   2647\u001b[0m             \u001b[1;32mexcept\u001b[0m \u001b[0mKeyError\u001b[0m\u001b[1;33m:\u001b[0m\u001b[1;33m\u001b[0m\u001b[1;33m\u001b[0m\u001b[0m\n\u001b[1;32m-> 2648\u001b[1;33m                 \u001b[1;32mreturn\u001b[0m \u001b[0mself\u001b[0m\u001b[1;33m.\u001b[0m\u001b[0m_engine\u001b[0m\u001b[1;33m.\u001b[0m\u001b[0mget_loc\u001b[0m\u001b[1;33m(\u001b[0m\u001b[0mself\u001b[0m\u001b[1;33m.\u001b[0m\u001b[0m_maybe_cast_indexer\u001b[0m\u001b[1;33m(\u001b[0m\u001b[0mkey\u001b[0m\u001b[1;33m)\u001b[0m\u001b[1;33m)\u001b[0m\u001b[1;33m\u001b[0m\u001b[1;33m\u001b[0m\u001b[0m\n\u001b[0m\u001b[0;32m   2649\u001b[0m         \u001b[0mindexer\u001b[0m \u001b[1;33m=\u001b[0m \u001b[0mself\u001b[0m\u001b[1;33m.\u001b[0m\u001b[0mget_indexer\u001b[0m\u001b[1;33m(\u001b[0m\u001b[1;33m[\u001b[0m\u001b[0mkey\u001b[0m\u001b[1;33m]\u001b[0m\u001b[1;33m,\u001b[0m \u001b[0mmethod\u001b[0m\u001b[1;33m=\u001b[0m\u001b[0mmethod\u001b[0m\u001b[1;33m,\u001b[0m \u001b[0mtolerance\u001b[0m\u001b[1;33m=\u001b[0m\u001b[0mtolerance\u001b[0m\u001b[1;33m)\u001b[0m\u001b[1;33m\u001b[0m\u001b[1;33m\u001b[0m\u001b[0m\n\u001b[0;32m   2650\u001b[0m         \u001b[1;32mif\u001b[0m \u001b[0mindexer\u001b[0m\u001b[1;33m.\u001b[0m\u001b[0mndim\u001b[0m \u001b[1;33m>\u001b[0m \u001b[1;36m1\u001b[0m \u001b[1;32mor\u001b[0m \u001b[0mindexer\u001b[0m\u001b[1;33m.\u001b[0m\u001b[0msize\u001b[0m \u001b[1;33m>\u001b[0m \u001b[1;36m1\u001b[0m\u001b[1;33m:\u001b[0m\u001b[1;33m\u001b[0m\u001b[1;33m\u001b[0m\u001b[0m\n",
      "\u001b[1;32mpandas\\_libs\\index.pyx\u001b[0m in \u001b[0;36mpandas._libs.index.IndexEngine.get_loc\u001b[1;34m()\u001b[0m\n",
      "\u001b[1;32mpandas\\_libs\\index.pyx\u001b[0m in \u001b[0;36mpandas._libs.index.IndexEngine.get_loc\u001b[1;34m()\u001b[0m\n",
      "\u001b[1;32mpandas\\_libs\\hashtable_class_helper.pxi\u001b[0m in \u001b[0;36mpandas._libs.hashtable.PyObjectHashTable.get_item\u001b[1;34m()\u001b[0m\n",
      "\u001b[1;32mpandas\\_libs\\hashtable_class_helper.pxi\u001b[0m in \u001b[0;36mpandas._libs.hashtable.PyObjectHashTable.get_item\u001b[1;34m()\u001b[0m\n",
      "\u001b[1;31mKeyError\u001b[0m: '0'"
     ]
    }
   ],
   "source": [
    "re_pattern = re.compile(r'[^ 가-힣a-zA-Z0-9]')\n",
    "re_txt = re.sub(pattern = re_pattern , repl = '' , string = '동해!물과a 백두1 산이')\n",
    "\n",
    "회계['words'] = 회계['0'].apply(lambda x : re.sub(pattern = re_pattern , repl = '', string = x))\n",
    "회계['words'] = 회계['words'].apply(lambda x : m.nouns(x))\n",
    "회계.drop('0', axis = 1 , inplace = True)\n",
    "\n",
    "회계"
   ]
  },
  {
   "cell_type": "code",
   "execution_count": null,
   "metadata": {},
   "outputs": [],
   "source": []
  },
  {
   "cell_type": "code",
   "execution_count": null,
   "metadata": {},
   "outputs": [],
   "source": []
  },
  {
   "cell_type": "code",
   "execution_count": null,
   "metadata": {},
   "outputs": [],
   "source": []
  },
  {
   "cell_type": "code",
   "execution_count": null,
   "metadata": {},
   "outputs": [],
   "source": []
  },
  {
   "cell_type": "code",
   "execution_count": 33,
   "metadata": {},
   "outputs": [
    {
     "data": {
      "text/plain": [
       "array([list(['거래처', '종업원', '임원', '일시', '신원', '보증금', '퇴직금', '지급', '급료', '공제', '예수', '금원', '천세', '보험료', '국민', '연금', '등', '보관', '액', '부채', '품목', '예수금', '내용', '금액', '때', '종업원', '예수금', '임원', '예수금', '신원', '보증', '예수금', '보험료', '예수금', '등', '세분', '기입']),\n",
       "       list(['저당', '일종', '채무자', '계속', '거래', '계약', '등', '발생', '특정', '채권', '일정액', '한도', '담보', '저당권', '말', '담보', '채권', '소멸', '저당권', '소멸', '데', '근저당', '일정', '범위', '담보', '채권', '채권', '소멸', '근저당', '영향', '후', '해당', '채권', '발생', '채권', '근저당', '담보']),\n",
       "       list(['당사자', '일방', '재산', '무상', '상대방', '친족', '타인', '수여', '의사', '표시', '상대방', '이', '승낙', '성립', '낙성', '무상', '편무', '계약', '말', '타인', '채무', '면제', '수', '자', '변제', '자', '면제', '수', '변제', '이익', '해당', '금액', '증여', '것', '간주', '가액', '대가', '재산', '취득', '경우', '시가', '대가', '차액', '상당', '금액', '증여', '것', '간주', '증여세', '부과', '대상']),\n",
       "       list(['기업', '이익', '발생', '회사', '내', '누적', '이익', '잉여금', '일부', '기업', '소유주', '분배', '것', '말', '배당금', '영업', '활동', '발생', '비용', '일맥상통', '면', '배당금', '비용', '배당금', '보통', '현금', '지급', '주식', '경우', '어음', '경우', '등', '가지', '형태']),\n",
       "       list(['거래', '거래', '요소', '계정', '기입', '법칙', '계정', '기입', '발생', '거래', '계정', '기입', '누락', '가능', '계정계좌', '기입', '전', '거래', '계정', '차변', '대변', '얼마', '금액', '기입', '것', '것', '결정', '절차', '분개', '분개', '구체', '계정', '과목', '금액', '것', '말', '거래', '최초', '회계', '기록', '분개', '기록', '형식', '차변', '기록', '계정', '왼쪽', '대변', '기록', '계정', '오른쪽', '계정', '과목', '금액', '표시', '경우', '분개', '거래', '이중', '원칙', '차변', '금액', '대변', '금액', '일치']),\n",
       "       list(['매출', '총이익률', '매출', '얼마', '이익', '재무', '비율', '비율', '분모', '매출액', '이용', '분자', '매출', '이익', '매출', '총이익률', '매출', '이익', '매출액'])],\n",
       "      dtype=object)"
      ]
     },
     "execution_count": 33,
     "metadata": {},
     "output_type": "execute_result"
    }
   ],
   "source": [
    "회계.loc[:5 , 'words'].values"
   ]
  },
  {
   "cell_type": "code",
   "execution_count": 30,
   "metadata": {},
   "outputs": [],
   "source": []
  },
  {
   "cell_type": "code",
   "execution_count": 46,
   "metadata": {},
   "outputs": [],
   "source": [
    "from gensim.models import FastText\n",
    "\n",
    "model = FastText(sentences = 회계.loc[:1800 , 'words'].values)"
   ]
  },
  {
   "cell_type": "code",
   "execution_count": 47,
   "metadata": {},
   "outputs": [
    {
     "data": {
      "text/plain": [
       "(1713, 100)"
      ]
     },
     "execution_count": 47,
     "metadata": {},
     "output_type": "execute_result"
    }
   ],
   "source": [
    "model.wv.vectors.shape"
   ]
  },
  {
   "cell_type": "code",
   "execution_count": 54,
   "metadata": {},
   "outputs": [
    {
     "data": {
      "text/plain": [
       "[('신주인수권', 0.9992639422416687),\n",
       " ('가능', 0.9992632269859314),\n",
       " ('차입금', 0.9992515444755554),\n",
       " ('전자', 0.999212920665741),\n",
       " ('대여', 0.9991958141326904),\n",
       " ('입장', 0.9991627931594849),\n",
       " ('보증', 0.9991485476493835),\n",
       " ('기재', 0.9991371631622314),\n",
       " ('대비', 0.9991351366043091),\n",
       " ('지불', 0.9991275072097778)]"
      ]
     },
     "execution_count": 54,
     "metadata": {},
     "output_type": "execute_result"
    }
   ],
   "source": [
    "model.wv.most_similar('배')"
   ]
  },
  {
   "cell_type": "code",
   "execution_count": null,
   "metadata": {},
   "outputs": [],
   "source": [
    "나는 배가 항상 고플 수도 있다 "
   ]
  },
  {
   "cell_type": "code",
   "execution_count": 60,
   "metadata": {},
   "outputs": [
    {
     "data": {
      "text/plain": [
       "<gensim.models.fasttext.FastText at 0x125756f49c8>"
      ]
     },
     "execution_count": 60,
     "metadata": {},
     "output_type": "execute_result"
    }
   ],
   "source": [
    "FastText()"
   ]
  },
  {
   "cell_type": "code",
   "execution_count": null,
   "metadata": {},
   "outputs": [],
   "source": []
  },
  {
   "cell_type": "code",
   "execution_count": null,
   "metadata": {},
   "outputs": [],
   "source": []
  },
  {
   "cell_type": "markdown",
   "metadata": {},
   "source": [
    "##### http://mahru.co.kr/index.php?mid=MrDIC&document_srl=24498 [건자재]"
   ]
  },
  {
   "cell_type": "code",
   "execution_count": 11,
   "metadata": {},
   "outputs": [],
   "source": [
    "soup = reqSoup('http://mahru.co.kr/index.php?mid=MrDIC&document_srl=24498')"
   ]
  },
  {
   "cell_type": "code",
   "execution_count": 26,
   "metadata": {},
   "outputs": [
    {
     "data": {
      "text/plain": [
       "1695"
      ]
     },
     "execution_count": 26,
     "metadata": {},
     "output_type": "execute_result"
    }
   ],
   "source": [
    "len(soup.find_all('p'))"
   ]
  },
  {
   "cell_type": "code",
   "execution_count": 30,
   "metadata": {},
   "outputs": [
    {
     "data": {
      "text/plain": [
       "<p class=\"HStyle0\">물매 참조.</p>"
      ]
     },
     "execution_count": 30,
     "metadata": {},
     "output_type": "execute_result"
    }
   ],
   "source": [
    "soup.find_all('p')[1588]"
   ]
  }
 ],
 "metadata": {
  "kernelspec": {
   "display_name": "Python 3",
   "language": "python",
   "name": "python3"
  },
  "language_info": {
   "codemirror_mode": {
    "name": "ipython",
    "version": 3
   },
   "file_extension": ".py",
   "mimetype": "text/x-python",
   "name": "python",
   "nbconvert_exporter": "python",
   "pygments_lexer": "ipython3",
   "version": "3.7.6"
  }
 },
 "nbformat": 4,
 "nbformat_minor": 4
}
