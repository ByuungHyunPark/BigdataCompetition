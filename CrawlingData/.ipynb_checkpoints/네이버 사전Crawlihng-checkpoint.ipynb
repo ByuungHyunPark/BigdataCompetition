{
 "cells": [
  {
   "cell_type": "markdown",
   "metadata": {},
   "source": [
    "Crawling\n",
    "- 사회과학\n",
    "    - 경제/경영\n",
    "        - https://terms.naver.com/list.nhn?cid=51737&categoryId=51737 [네이버 회계,세무사전]\n",
    "        - https://terms.naver.com/list.nhn?cid=42094&categoryId=42094 [부동산 용어 사전]\n",
    "        - https://terms.naver.com/list.nhn?cid=51072&categoryId=51072 [HRD 용어사전]\n",
    "        - https://terms.naver.com/list.nhn?cid=42093&categoryId=42093 [무역용어사전]\n",
    "        - https://terms.naver.com/list.nhn?cid=58452&categoryId=58452 [통계]\n",
    "        - https://terms.naver.com/list.nhn?cid=48156&categoryId=48156 [음식 레시피]\n",
    "        - https://terms.naver.com/list.nhn?cid=42826&categoryId=41702 [생활/취미/스포츠]"
   ]
  },
  {
   "cell_type": "markdown",
   "metadata": {},
   "source": [
    "##### 1. https://terms.naver.com/list.nhn?cid=51737&categoryId=51737 "
   ]
  },
  {
   "cell_type": "code",
   "execution_count": 1,
   "metadata": {},
   "outputs": [],
   "source": [
    "import pandas as pd\n",
    "import requests\n",
    "from bs4 import BeautifulSoup\n",
    "from tqdm.notebook import tqdm"
   ]
  },
  {
   "cell_type": "markdown",
   "metadata": {},
   "source": [
    "##### url Load"
   ]
  },
  {
   "cell_type": "code",
   "execution_count": 2,
   "metadata": {},
   "outputs": [],
   "source": [
    "def reqSoup(url):\n",
    "    req = requests.get(url)\n",
    "    html = req.text\n",
    "    soup = BeautifulSoup(html , 'html.parser')\n",
    "    return soup"
   ]
  },
  {
   "cell_type": "code",
   "execution_count": 6,
   "metadata": {
    "scrolled": true
   },
   "outputs": [],
   "source": [
    "def urlCrawling(categoryID):\n",
    "\n",
    "    urlList = []\n",
    "    \n",
    "    Flag = True    \n",
    "    pageNo = 0\n",
    "    \n",
    "    # url Load\n",
    "    while(Flag == True):\n",
    "        \n",
    "        if pageNo ==100:\n",
    "            break\n",
    "        \n",
    "        pageNo +=1\n",
    "        url = 'https://terms.naver.com/list.nhn?cid={}&categoryId={}&page={}'.format(categoryID,categoryID,pageNo)\n",
    "        \n",
    "        try:\n",
    "            soup = reqSoup(url)\n",
    "        except:\n",
    "            break\n",
    "\n",
    "        for row in range(15):\n",
    "            try:\n",
    "                urlList.append('https://terms.naver.com' + soup.select('#content > div.list_wrap > ul > li')[row].select('a')[0]['href'])\n",
    "            except:\n",
    "                Flag = False\n",
    "            \n",
    "        if pageNo % 20 == 0:\n",
    "            print(url)\n",
    "       \n",
    "    \n",
    "    print(categoryID , pageNo ,' url Crawling Success . . .')   \n",
    "    contentList = []\n",
    "    err_count = 30\n",
    "    \n",
    "    \n",
    "    \n",
    "    #Crawling Content in URL\n",
    "    for i in range(len(urlList)):\n",
    "        \n",
    "        if i %100 ==0:\n",
    "            print(i / len(urlList) * 100 , ' %')\n",
    "        \n",
    "        if err_count ==0:break\n",
    "        \n",
    "        url = urlList[i]\n",
    "        soup = reqSoup(url)\n",
    "\n",
    "        \n",
    "        try:\n",
    "            contentList.append(soup.select('#size_ct > p')[0].text)\n",
    "        except:\n",
    "            try:\n",
    "                contentList.append(soup.select('#size_ct > div')[0].text)\n",
    "            except:\n",
    "                err_count -=1 \n",
    "                print(url , ' : x')\n",
    "                pass\n",
    "            \n",
    "    print(categoryID , 'contents Crawling Success . . .')\n",
    "    \n",
    "    \n",
    "    return pd.DataFrame(contentList)"
   ]
  },
  {
   "cell_type": "code",
   "execution_count": 7,
   "metadata": {},
   "outputs": [
    {
     "name": "stdout",
     "output_type": "stream",
     "text": [
      "https://terms.naver.com/list.nhn?cid=41702&categoryId=41702&page=20\n",
      "https://terms.naver.com/list.nhn?cid=41702&categoryId=41702&page=40\n",
      "https://terms.naver.com/list.nhn?cid=41702&categoryId=41702&page=60\n",
      "https://terms.naver.com/list.nhn?cid=41702&categoryId=41702&page=80\n",
      "https://terms.naver.com/list.nhn?cid=41702&categoryId=41702&page=100\n",
      "41702 100  url Crawling Success . . .\n",
      "0.0  %\n",
      "6.666666666666667  %\n",
      "13.333333333333334  %\n",
      "20.0  %\n",
      "26.666666666666668  %\n",
      "33.33333333333333  %\n",
      "40.0  %\n",
      "46.666666666666664  %\n",
      "53.333333333333336  %\n",
      "60.0  %\n",
      "66.66666666666666  %\n",
      "73.33333333333333  %\n",
      "80.0  %\n",
      "86.66666666666667  %\n",
      "93.33333333333333  %\n",
      "41702 contents Crawling Success . . .\n"
     ]
    }
   ],
   "source": [
    "생활취미 = urlCrawling('41702')\n",
    "생활취미.to_csv('생활취미.csv')"
   ]
  },
  {
   "cell_type": "code",
   "execution_count": 3,
   "metadata": {},
   "outputs": [
    {
     "ename": "NameError",
     "evalue": "name '회계' is not defined",
     "output_type": "error",
     "traceback": [
      "\u001b[1;31m---------------------------------------------------------------------------\u001b[0m",
      "\u001b[1;31mNameError\u001b[0m                                 Traceback (most recent call last)",
      "\u001b[1;32m<ipython-input-3-15c4972c1135>\u001b[0m in \u001b[0;36m<module>\u001b[1;34m\u001b[0m\n\u001b[1;32m----> 1\u001b[1;33m \u001b[0mdictDF\u001b[0m \u001b[1;33m=\u001b[0m \u001b[0mpd\u001b[0m\u001b[1;33m.\u001b[0m\u001b[0mconcat\u001b[0m\u001b[1;33m(\u001b[0m\u001b[1;33m[\u001b[0m\u001b[0m회계\u001b[0m\u001b[1;33m,\u001b[0m \u001b[0m부동산\u001b[0m\u001b[1;33m,\u001b[0m \u001b[0m무역\u001b[0m\u001b[1;33m,\u001b[0m \u001b[0m통계\u001b[0m\u001b[1;33m]\u001b[0m\u001b[1;33m,\u001b[0m \u001b[0mignore_index\u001b[0m \u001b[1;33m=\u001b[0m \u001b[1;32mTrue\u001b[0m\u001b[1;33m)\u001b[0m\u001b[1;33m\u001b[0m\u001b[1;33m\u001b[0m\u001b[0m\n\u001b[0m\u001b[0;32m      2\u001b[0m \u001b[0mdictDF\u001b[0m\u001b[1;33m\u001b[0m\u001b[1;33m\u001b[0m\u001b[0m\n",
      "\u001b[1;31mNameError\u001b[0m: name '회계' is not defined"
     ]
    }
   ],
   "source": [
    "dictDF = pd.concat([회계, 부동산, HRD,무역, 통계], ignore_index = True)\n",
    "dictDF"
   ]
  },
  {
   "cell_type": "code",
   "execution_count": 10,
   "metadata": {},
   "outputs": [
    {
     "data": {
      "text/html": [
       "<div>\n",
       "<style scoped>\n",
       "    .dataframe tbody tr th:only-of-type {\n",
       "        vertical-align: middle;\n",
       "    }\n",
       "\n",
       "    .dataframe tbody tr th {\n",
       "        vertical-align: top;\n",
       "    }\n",
       "\n",
       "    .dataframe thead th {\n",
       "        text-align: right;\n",
       "    }\n",
       "</style>\n",
       "<table border=\"1\" class=\"dataframe\">\n",
       "  <thead>\n",
       "    <tr style=\"text-align: right;\">\n",
       "      <th></th>\n",
       "      <th>0</th>\n",
       "    </tr>\n",
       "  </thead>\n",
       "  <tbody>\n",
       "    <tr>\n",
       "      <th>1870</th>\n",
       "      <td>조합매매상 매매를 담당하는 자를 조합주임이라고 하고, 조합에 관한 사항을 모아서 조...</td>\n",
       "    </tr>\n",
       "    <tr>\n",
       "      <th>1871</th>\n",
       "      <td>애덤 스미스를 비롯한 정통학파에 속하는 학자들의 이론으로서 조세란 생산에 유해할 뿐...</td>\n",
       "    </tr>\n",
       "    <tr>\n",
       "      <th>1872</th>\n",
       "      <td>국내산업을 보호하고 국제수지를 개선하기 위해 수입물품에 대해 관세에 부가하여 부과하...</td>\n",
       "    </tr>\n",
       "    <tr>\n",
       "      <th>1873</th>\n",
       "      <td>세금계산서·수입계산서 등 기타 과세자료를 세무서에 제출할 의무가 있는 사람들에게 업...</td>\n",
       "    </tr>\n",
       "    <tr>\n",
       "      <th>1874</th>\n",
       "      <td>납액통지란 국세징수법 제8조의 규정에 의해 위탁징수(委託徵收)를 할 때 세무서장이 ...</td>\n",
       "    </tr>\n",
       "  </tbody>\n",
       "</table>\n",
       "</div>"
      ],
      "text/plain": [
       "                                                      0\n",
       "1870  조합매매상 매매를 담당하는 자를 조합주임이라고 하고, 조합에 관한 사항을 모아서 조...\n",
       "1871  애덤 스미스를 비롯한 정통학파에 속하는 학자들의 이론으로서 조세란 생산에 유해할 뿐...\n",
       "1872  국내산업을 보호하고 국제수지를 개선하기 위해 수입물품에 대해 관세에 부가하여 부과하...\n",
       "1873  세금계산서·수입계산서 등 기타 과세자료를 세무서에 제출할 의무가 있는 사람들에게 업...\n",
       "1874  납액통지란 국세징수법 제8조의 규정에 의해 위탁징수(委託徵收)를 할 때 세무서장이 ..."
      ]
     },
     "execution_count": 10,
     "metadata": {},
     "output_type": "execute_result"
    }
   ],
   "source": [
    "회계 = pd.read_csv('회계세무.csv', index_col = 0)\n",
    "회계.tail()"
   ]
  },
  {
   "cell_type": "code",
   "execution_count": 57,
   "metadata": {},
   "outputs": [
    {
     "data": {
      "text/html": [
       "<div>\n",
       "<style scoped>\n",
       "    .dataframe tbody tr th:only-of-type {\n",
       "        vertical-align: middle;\n",
       "    }\n",
       "\n",
       "    .dataframe tbody tr th {\n",
       "        vertical-align: top;\n",
       "    }\n",
       "\n",
       "    .dataframe thead th {\n",
       "        text-align: right;\n",
       "    }\n",
       "</style>\n",
       "<table border=\"1\" class=\"dataframe\">\n",
       "  <thead>\n",
       "    <tr style=\"text-align: right;\">\n",
       "      <th></th>\n",
       "      <th>0</th>\n",
       "    </tr>\n",
       "  </thead>\n",
       "  <tbody>\n",
       "    <tr>\n",
       "      <th>1870</th>\n",
       "      <td>저당채권을 유동화하면 관련자에게 생기는 효과를 말한다. 우선 소비자에게 다음과 같은...</td>\n",
       "    </tr>\n",
       "    <tr>\n",
       "      <th>1871</th>\n",
       "      <td>주식회사 형태의 관민자본공동기업으로 부동산감정평가업무와 공동주택가격조사업무를 주 업...</td>\n",
       "    </tr>\n",
       "    <tr>\n",
       "      <th>1872</th>\n",
       "      <td>기업이 내적으로 단기적 지급능력을 갖추고 있음은 물론 장기적으로 경기 변동이나 시장...</td>\n",
       "    </tr>\n",
       "    <tr>\n",
       "      <th>1873</th>\n",
       "      <td>모기지 은행이 대출한 주택 론(loan) 중에서 일정한 조건을 만족한 것을 일괄(p...</td>\n",
       "    </tr>\n",
       "    <tr>\n",
       "      <th>1874</th>\n",
       "      <td>원본의 필요한 부분만을 뽑아서 베끼거나 발췌하여 등사한 서면으로 원본 중의 필요한 ...</td>\n",
       "    </tr>\n",
       "  </tbody>\n",
       "</table>\n",
       "</div>"
      ],
      "text/plain": [
       "                                                      0\n",
       "1870  저당채권을 유동화하면 관련자에게 생기는 효과를 말한다. 우선 소비자에게 다음과 같은...\n",
       "1871  주식회사 형태의 관민자본공동기업으로 부동산감정평가업무와 공동주택가격조사업무를 주 업...\n",
       "1872  기업이 내적으로 단기적 지급능력을 갖추고 있음은 물론 장기적으로 경기 변동이나 시장...\n",
       "1873  모기지 은행이 대출한 주택 론(loan) 중에서 일정한 조건을 만족한 것을 일괄(p...\n",
       "1874  원본의 필요한 부분만을 뽑아서 베끼거나 발췌하여 등사한 서면으로 원본 중의 필요한 ..."
      ]
     },
     "execution_count": 57,
     "metadata": {},
     "output_type": "execute_result"
    }
   ],
   "source": [
    "부동산 = pd.read_csv('부동산.csv', index_col = 0)\n",
    "부동산.tail()"
   ]
  },
  {
   "cell_type": "markdown",
   "metadata": {},
   "source": [
    "##### konlpy활용한 정제 // Mecab 라이브러리 쓰면 더 정제가 효율적"
   ]
  },
  {
   "cell_type": "code",
   "execution_count": 55,
   "metadata": {},
   "outputs": [],
   "source": [
    "from eunjeon import Mecab\n",
    "import re\n",
    "m = Mecab()"
   ]
  },
  {
   "cell_type": "markdown",
   "metadata": {},
   "source": [
    "##### fastText 소량의 데이터로 실험"
   ]
  },
  {
   "cell_type": "code",
   "execution_count": 46,
   "metadata": {},
   "outputs": [],
   "source": [
    "from gensim.models import FastText\n",
    "\n",
    "model = FastText(sentences = 회계.loc[:1800 , 'words'].values)"
   ]
  },
  {
   "cell_type": "code",
   "execution_count": 47,
   "metadata": {},
   "outputs": [
    {
     "data": {
      "text/plain": [
       "(1713, 100)"
      ]
     },
     "execution_count": 47,
     "metadata": {},
     "output_type": "execute_result"
    }
   ],
   "source": [
    "model.wv.vectors.shape"
   ]
  },
  {
   "cell_type": "code",
   "execution_count": 54,
   "metadata": {},
   "outputs": [
    {
     "data": {
      "text/plain": [
       "[('신주인수권', 0.9992639422416687),\n",
       " ('가능', 0.9992632269859314),\n",
       " ('차입금', 0.9992515444755554),\n",
       " ('전자', 0.999212920665741),\n",
       " ('대여', 0.9991958141326904),\n",
       " ('입장', 0.9991627931594849),\n",
       " ('보증', 0.9991485476493835),\n",
       " ('기재', 0.9991371631622314),\n",
       " ('대비', 0.9991351366043091),\n",
       " ('지불', 0.9991275072097778)]"
      ]
     },
     "execution_count": 54,
     "metadata": {},
     "output_type": "execute_result"
    }
   ],
   "source": [
    "model.wv.most_similar('배')"
   ]
  }
 ],
 "metadata": {
  "kernelspec": {
   "display_name": "Python 3",
   "language": "python",
   "name": "python3"
  },
  "language_info": {
   "codemirror_mode": {
    "name": "ipython",
    "version": 3
   },
   "file_extension": ".py",
   "mimetype": "text/x-python",
   "name": "python",
   "nbconvert_exporter": "python",
   "pygments_lexer": "ipython3",
   "version": "3.7.6"
  }
 },
 "nbformat": 4,
 "nbformat_minor": 4
}
